{
 "cells": [
  {
   "cell_type": "code",
   "execution_count": 2,
   "metadata": {},
   "outputs": [],
   "source": [
    "def finding_e():  #finds e to the nth digit as input by the user\n",
    "    import math\n",
    "    dplaces=11\n",
    "    while dplaces>10:    #limit of 10th digit\n",
    "        print(\"The limit of e's decimal places is 10\")\n",
    "        dplaces=int(input(\"Enter the number of decimal places you want the value to have:\"))\n",
    "    else:\n",
    "        print(\"Pi is %1.{}f\".format(dplaces) %(math.e))"
   ]
  },
  {
   "cell_type": "code",
   "execution_count": 3,
   "metadata": {},
   "outputs": [
    {
     "name": "stdout",
     "output_type": "stream",
     "text": [
      "The limit of e's decimal places is 10\n",
      "Enter the number of decimal places you want the value to have:11\n",
      "The limit of e's decimal places is 10\n",
      "Enter the number of decimal places you want the value to have:10\n",
      "Pi is 2.7182818285\n"
     ]
    }
   ],
   "source": [
    "finding_e()"
   ]
  },
  {
   "cell_type": "code",
   "execution_count": null,
   "metadata": {},
   "outputs": [],
   "source": []
  }
 ],
 "metadata": {
  "kernelspec": {
   "display_name": "Python 3",
   "language": "python",
   "name": "python3"
  },
  "language_info": {
   "codemirror_mode": {
    "name": "ipython",
    "version": 3
   },
   "file_extension": ".py",
   "mimetype": "text/x-python",
   "name": "python",
   "nbconvert_exporter": "python",
   "pygments_lexer": "ipython3",
   "version": "3.7.4"
  }
 },
 "nbformat": 4,
 "nbformat_minor": 2
}
