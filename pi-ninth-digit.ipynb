{
 "cells": [
  {
   "cell_type": "code",
   "execution_count": 1,
   "metadata": {},
   "outputs": [],
   "source": [
    "def finding_pi():  #finds pi to the nth digit as input by the user\n",
    "    import math\n",
    "    dplaces=13\n",
    "    while dplaces>12:    #limit of 12th decimal place\n",
    "        print(\"The limit for pi's decimal places is 12\")\n",
    "        dplaces=int(input(\"Enter the number of decimal places you want the value to have:\"))\n",
    "    else:\n",
    "        print(\"Pi is %1.{}f\".format(dplaces) %(math.pi))"
   ]
  },
  {
   "cell_type": "code",
   "execution_count": 2,
   "metadata": {},
   "outputs": [
    {
     "name": "stdout",
     "output_type": "stream",
     "text": [
      "The limit for pi's decimal places is 12\n",
      "Enter the number of decimal places you want the value to have:13\n",
      "The limit for pi's decimal places is 12\n",
      "Enter the number of decimal places you want the value to have:12\n",
      "Pi is 3.141592653590\n"
     ]
    }
   ],
   "source": [
    "finding_pi()"
   ]
  },
  {
   "cell_type": "code",
   "execution_count": null,
   "metadata": {},
   "outputs": [],
   "source": []
  }
 ],
 "metadata": {
  "kernelspec": {
   "display_name": "Python 3",
   "language": "python",
   "name": "python3"
  },
  "language_info": {
   "codemirror_mode": {
    "name": "ipython",
    "version": 3
   },
   "file_extension": ".py",
   "mimetype": "text/x-python",
   "name": "python",
   "nbconvert_exporter": "python",
   "pygments_lexer": "ipython3",
   "version": "3.7.4"
  }
 },
 "nbformat": 4,
 "nbformat_minor": 2
}
