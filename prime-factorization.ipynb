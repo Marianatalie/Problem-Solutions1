{
 "cells": [
  {
   "cell_type": "code",
   "execution_count": 2,
   "metadata": {},
   "outputs": [],
   "source": [
    "def prime_number(num):\n",
    "    x=int(num)\n",
    "    count=0\n",
    "    while x>=2:\n",
    "        if num % x == 0:\n",
    "            count+=1\n",
    "        x-=1\n",
    "    if count==1:\n",
    "        return True\n",
    "    else:\n",
    "        return False\n",
    "            "
   ]
  },
  {
   "cell_type": "code",
   "execution_count": 3,
   "metadata": {},
   "outputs": [],
   "source": [
    "def prime_factorization():\n",
    "        number=int(input(\"Enter a number of your choice:\"))\n",
    "        for num in range(2,number):\n",
    "            if (number % num == 0 and prime_number(num)):\n",
    "                print (num)\n",
    "           "
   ]
  },
  {
   "cell_type": "code",
   "execution_count": 6,
   "metadata": {},
   "outputs": [
    {
     "name": "stdout",
     "output_type": "stream",
     "text": [
      "Enter a number of your choice:893\n",
      "19\n",
      "47\n"
     ]
    }
   ],
   "source": [
    "prime_factorization()"
   ]
  },
  {
   "cell_type": "code",
   "execution_count": null,
   "metadata": {},
   "outputs": [],
   "source": []
  }
 ],
 "metadata": {
  "kernelspec": {
   "display_name": "Python 3",
   "language": "python",
   "name": "python3"
  },
  "language_info": {
   "codemirror_mode": {
    "name": "ipython",
    "version": 3
   },
   "file_extension": ".py",
   "mimetype": "text/x-python",
   "name": "python",
   "nbconvert_exporter": "python",
   "pygments_lexer": "ipython3",
   "version": "3.7.4"
  }
 },
 "nbformat": 4,
 "nbformat_minor": 2
}
