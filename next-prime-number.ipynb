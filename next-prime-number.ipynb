{
 "cells": [
  {
   "cell_type": "code",
   "execution_count": 1,
   "metadata": {},
   "outputs": [],
   "source": [
    "def prime_number(num):  #checks if number is a prime number\n",
    "    x=int(num)\n",
    "    count=0\n",
    "    while x>=2:\n",
    "        if num % x == 0:\n",
    "            count+=1\n",
    "        x-=1\n",
    "    if count==1:\n",
    "        return True\n",
    "    "
   ]
  },
  {
   "cell_type": "code",
   "execution_count": 2,
   "metadata": {},
   "outputs": [],
   "source": [
    "def next_prime(current_prime):  #looks for the next prime number\n",
    "    current_prime+=1\n",
    "    while True:\n",
    "        if prime_number(current_prime):\n",
    "            return current_prime\n",
    "            break\n",
    "            \n",
    "        else:\n",
    "            current_prime+=1\n",
    "            \n",
    "   \n",
    "    "
   ]
  },
  {
   "cell_type": "code",
   "execution_count": 3,
   "metadata": {},
   "outputs": [],
   "source": [
    "def main():\n",
    "    choice=\"Y\"\n",
    "    num=2\n",
    "    print(num)\n",
    "    while choice.capitalize()==\"Y\":\n",
    "        choice=input(\"Would you like to see the next prime number? (Y/N)\")\n",
    "        if choice.capitalize()==\"Y\":\n",
    "            new=prime_number(num)\n",
    "            num=next_prime(num)\n",
    "            print(num)\n",
    "        else:\n",
    "            break\n",
    "            \n",
    "    \n"
   ]
  },
  {
   "cell_type": "code",
   "execution_count": 4,
   "metadata": {},
   "outputs": [
    {
     "name": "stdout",
     "output_type": "stream",
     "text": [
      "2\n",
      "Would you like to see the next prime number? (Y/N)y\n",
      "3\n",
      "Would you like to see the next prime number? (Y/N)y\n",
      "5\n",
      "Would you like to see the next prime number? (Y/N)y\n",
      "7\n",
      "Would you like to see the next prime number? (Y/N)y\n",
      "11\n",
      "Would you like to see the next prime number? (Y/N)y\n",
      "13\n",
      "Would you like to see the next prime number? (Y/N)y\n",
      "17\n",
      "Would you like to see the next prime number? (Y/N)y\n",
      "19\n",
      "Would you like to see the next prime number? (Y/N)n\n"
     ]
    }
   ],
   "source": [
    "if __name__ == '__main__':\n",
    "    main()"
   ]
  },
  {
   "cell_type": "code",
   "execution_count": null,
   "metadata": {},
   "outputs": [],
   "source": []
  },
  {
   "cell_type": "code",
   "execution_count": null,
   "metadata": {},
   "outputs": [],
   "source": []
  }
 ],
 "metadata": {
  "kernelspec": {
   "display_name": "Python 3",
   "language": "python",
   "name": "python3"
  },
  "language_info": {
   "codemirror_mode": {
    "name": "ipython",
    "version": 3
   },
   "file_extension": ".py",
   "mimetype": "text/x-python",
   "name": "python",
   "nbconvert_exporter": "python",
   "pygments_lexer": "ipython3",
   "version": "3.7.4"
  }
 },
 "nbformat": 4,
 "nbformat_minor": 2
}
